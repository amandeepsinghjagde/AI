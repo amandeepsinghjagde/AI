{
 "cells": [
  {
   "cell_type": "markdown",
   "metadata": {},
   "source": [
    "# By - Amandeep Singh Jagde"
   ]
  },
  {
   "cell_type": "code",
   "execution_count": 4,
   "metadata": {},
   "outputs": [],
   "source": [
    "import numpy as np\n",
    "import matplotlib.pyplot as plt\n",
    "import pandas as pd\n",
    "from tensorflow.keras.models import Sequential\n",
    "from tensorflow.keras.layers import Dense, LSTM\n",
    "from sklearn.preprocessing import MinMaxScaler"
   ]
  },
  {
   "cell_type": "code",
   "execution_count": 37,
   "metadata": {},
   "outputs": [],
   "source": [
    "dataset=pd.read_csv(\"airline-passengers.csv\")"
   ]
  },
  {
   "cell_type": "code",
   "execution_count": 38,
   "metadata": {},
   "outputs": [],
   "source": [
    "#A.a.\n",
    "dataset[['Month','Passangers']] = dataset['\"Month\",\"Passengers\"'].str.split(\",\",expand=True)\n"
   ]
  },
  {
   "cell_type": "code",
   "execution_count": 39,
   "metadata": {},
   "outputs": [
    {
     "data": {
      "text/html": [
       "<div>\n",
       "<style scoped>\n",
       "    .dataframe tbody tr th:only-of-type {\n",
       "        vertical-align: middle;\n",
       "    }\n",
       "\n",
       "    .dataframe tbody tr th {\n",
       "        vertical-align: top;\n",
       "    }\n",
       "\n",
       "    .dataframe thead th {\n",
       "        text-align: right;\n",
       "    }\n",
       "</style>\n",
       "<table border=\"1\" class=\"dataframe\">\n",
       "  <thead>\n",
       "    <tr style=\"text-align: right;\">\n",
       "      <th></th>\n",
       "      <th>\"Month\",\"Passengers\"</th>\n",
       "      <th>Month</th>\n",
       "      <th>Passangers</th>\n",
       "    </tr>\n",
       "  </thead>\n",
       "  <tbody>\n",
       "    <tr>\n",
       "      <th>0</th>\n",
       "      <td>\"1949-01\",112</td>\n",
       "      <td>\"1949-01\"</td>\n",
       "      <td>112</td>\n",
       "    </tr>\n",
       "    <tr>\n",
       "      <th>1</th>\n",
       "      <td>\"1949-02\",118</td>\n",
       "      <td>\"1949-02\"</td>\n",
       "      <td>118</td>\n",
       "    </tr>\n",
       "    <tr>\n",
       "      <th>2</th>\n",
       "      <td>\"1949-03\",132</td>\n",
       "      <td>\"1949-03\"</td>\n",
       "      <td>132</td>\n",
       "    </tr>\n",
       "    <tr>\n",
       "      <th>3</th>\n",
       "      <td>\"1949-04\",129</td>\n",
       "      <td>\"1949-04\"</td>\n",
       "      <td>129</td>\n",
       "    </tr>\n",
       "    <tr>\n",
       "      <th>4</th>\n",
       "      <td>\"1949-05\",121</td>\n",
       "      <td>\"1949-05\"</td>\n",
       "      <td>121</td>\n",
       "    </tr>\n",
       "  </tbody>\n",
       "</table>\n",
       "</div>"
      ],
      "text/plain": [
       "  \"Month\",\"Passengers\"      Month Passangers\n",
       "0        \"1949-01\",112  \"1949-01\"        112\n",
       "1        \"1949-02\",118  \"1949-02\"        118\n",
       "2        \"1949-03\",132  \"1949-03\"        132\n",
       "3        \"1949-04\",129  \"1949-04\"        129\n",
       "4        \"1949-05\",121  \"1949-05\"        121"
      ]
     },
     "execution_count": 39,
     "metadata": {},
     "output_type": "execute_result"
    }
   ],
   "source": [
    "dataset.head()"
   ]
  },
  {
   "cell_type": "code",
   "execution_count": 40,
   "metadata": {},
   "outputs": [
    {
     "data": {
      "text/plain": [
       "array([[112],\n",
       "       [118],\n",
       "       [132],\n",
       "       [129],\n",
       "       [121],\n",
       "       [135],\n",
       "       [148],\n",
       "       [148],\n",
       "       [136],\n",
       "       [119]])"
      ]
     },
     "execution_count": 40,
     "metadata": {},
     "output_type": "execute_result"
    }
   ],
   "source": [
    "dataset = dataset['Passangers']\n",
    "dataset = np.array(dataset).reshape(-1,1)\n",
    "dataset = dataset.astype(int)\n",
    "dataset[:10]"
   ]
  },
  {
   "cell_type": "code",
   "execution_count": 41,
   "metadata": {},
   "outputs": [
    {
     "data": {
      "text/plain": [
       "[<matplotlib.lines.Line2D at 0x7fa19e8b3400>]"
      ]
     },
     "execution_count": 41,
     "metadata": {},
     "output_type": "execute_result"
    },
    {
     "data": {
      "image/png": "[encoded data removed]",
      "text/plain": [
       "<Figure size 432x288 with 1 Axes>"
      ]
     },
     "metadata": {
      "needs_background": "light"
     },
     "output_type": "display_data"
    }
   ],
   "source": [
    "plt.plot(dataset)"
   ]
  },
  {
   "cell_type": "code",
   "execution_count": 42,
   "metadata": {},
   "outputs": [
    {
     "data": {
      "text/plain": [
       "(0.0, 1.0)"
      ]
     },
     "execution_count": 42,
     "metadata": {},
     "output_type": "execute_result"
    }
   ],
   "source": [
    "#B\n",
    "scaler = MinMaxScaler()\n",
    "dataset = scaler.fit_transform(dataset)\n",
    "dataset.min(),dataset.max()"
   ]
  },
  {
   "cell_type": "code",
   "execution_count": 44,
   "metadata": {},
   "outputs": [
    {
     "data": {
      "text/plain": [
       "(144, 1)"
      ]
     },
     "execution_count": 44,
     "metadata": {},
     "output_type": "execute_result"
    }
   ],
   "source": [
    "dataset.shape"
   ]
  },
  {
   "cell_type": "code",
   "execution_count": 45,
   "metadata": {},
   "outputs": [
    {
     "data": {
      "text/plain": [
       "(100, 1)"
      ]
     },
     "execution_count": 45,
     "metadata": {},
     "output_type": "execute_result"
    }
   ],
   "source": [
    "#We are going to use the data of first 100 months as training data and the last 44 months as testing data.\n",
    "train_size = 100\n",
    "test_size = 44\n",
    "train = dataset[0:train_size, :]\n",
    "train.shape"
   ]
  },
  {
   "cell_type": "code",
   "execution_count": 46,
   "metadata": {},
   "outputs": [
    {
     "data": {
      "text/plain": [
       "(44, 1)"
      ]
     },
     "execution_count": 46,
     "metadata": {},
     "output_type": "execute_result"
    }
   ],
   "source": [
    "test = dataset[train_size:144, :]\n",
    "test.shape"
   ]
  },
  {
   "cell_type": "code",
   "execution_count": 47,
   "metadata": {},
   "outputs": [],
   "source": [
    "def get_data(dataset, look_back):\n",
    "    dataX, dataY = [], []\n",
    "    for i in range(len(dataset)-look_back-1):\n",
    "        a = dataset[i:(i+look_back), 0]\n",
    "        dataX.append(a)\n",
    "        dataY.append(dataset[i+look_back, 0])\n",
    "    return np.array(dataX), np.array(dataY)"
   ]
  },
  {
   "cell_type": "code",
   "execution_count": 53,
   "metadata": {},
   "outputs": [
    {
     "data": {
      "text/plain": [
       "((98, 1), (98,))"
      ]
     },
     "execution_count": 53,
     "metadata": {},
     "output_type": "execute_result"
    }
   ],
   "source": [
    "look_back = 1\n",
    "X_train, y_train = get_data(train, look_back)\n",
    "X_train.shape,y_train.shape"
   ]
  },
  {
   "cell_type": "code",
   "execution_count": 54,
   "metadata": {},
   "outputs": [],
   "source": [
    "X_test, y_test = get_data(test, look_back)"
   ]
  },
  {
   "cell_type": "code",
   "execution_count": 55,
   "metadata": {},
   "outputs": [],
   "source": [
    "X_train = X_train.reshape(X_train.shape[0], X_train.shape[1], 1)\n",
    "X_test = X_test.reshape(X_test.shape[0], X_test.shape[1], 1)"
   ]
  },
  {
   "cell_type": "code",
   "execution_count": 56,
   "metadata": {},
   "outputs": [
    {
     "data": {
      "text/plain": [
       "(98, 1, 1)"
      ]
     },
     "execution_count": 56,
     "metadata": {},
     "output_type": "execute_result"
    }
   ],
   "source": [
    "X_train.shape"
   ]
  },
  {
   "cell_type": "code",
   "execution_count": 60,
   "metadata": {},
   "outputs": [],
   "source": [
    "#C Build the model LSTM\n",
    "model = Sequential()\n",
    "model.add(LSTM(5, input_shape = (1, look_back)))\n",
    "model.add(Dense(1))\n",
    "model.compile(loss = 'mean_squared_error', optimizer = 'adam', metrics=['accuracy'])"
   ]
  },
  {
   "cell_type": "code",
   "execution_count": 61,
   "metadata": {},
   "outputs": [
    {
     "name": "stdout",
     "output_type": "stream",
     "text": [
      "Model: \"sequential_1\"\n",
      "_________________________________________________________________\n",
      "Layer (type)                 Output Shape              Param #   \n",
      "=================================================================\n",
      "lstm_1 (LSTM)                (None, 5)                 140       \n",
      "_________________________________________________________________\n",
      "dense_1 (Dense)              (None, 1)                 6         \n",
      "=================================================================\n",
      "Total params: 146\n",
      "Trainable params: 146\n",
      "Non-trainable params: 0\n",
      "_________________________________________________________________\n"
     ]
    }
   ],
   "source": [
    "model.summary()"
   ]
  },
  {
   "cell_type": "code",
   "execution_count": 63,
   "metadata": {},
   "outputs": [
    {
     "name": "stdout",
     "output_type": "stream",
     "text": [
      "Epoch 1/100\n",
      "98/98 [==============================] - 1s 1ms/step - loss: 0.0303 - accuracy: 3.1028e-04\n",
      "Epoch 2/100\n",
      "98/98 [==============================] - 0s 1ms/step - loss: 0.0111 - accuracy: 5.2182e-04\n",
      "Epoch 3/100\n",
      "98/98 [==============================] - 0s 1ms/step - loss: 0.0096 - accuracy: 0.0237\n",
      "Epoch 4/100\n",
      "98/98 [==============================] - 0s 1ms/step - loss: 0.0082 - accuracy: 0.0033\n",
      "Epoch 5/100\n",
      "98/98 [==============================] - 0s 1ms/step - loss: 0.0064 - accuracy: 0.0116\n",
      "Epoch 6/100\n",
      "98/98 [==============================] - 0s 1ms/step - loss: 0.0058 - accuracy: 0.0065\n",
      "Epoch 7/100\n",
      "98/98 [==============================] - 0s 1ms/step - loss: 0.0062 - accuracy: 0.0024\n",
      "Epoch 8/100\n",
      "98/98 [==============================] - 0s 1ms/step - loss: 0.0037 - accuracy: 0.0176\n",
      "Epoch 9/100\n",
      "98/98 [==============================] - 0s 1ms/step - loss: 0.0032 - accuracy: 0.0107\n",
      "Epoch 10/100\n",
      "98/98 [==============================] - 0s 1ms/step - loss: 0.0038 - accuracy: 0.0021\n",
      "Epoch 11/100\n",
      "98/98 [==============================] - 0s 1ms/step - loss: 0.0022 - accuracy: 7.3789e-04\n",
      "Epoch 12/100\n",
      "98/98 [==============================] - 0s 1ms/step - loss: 0.0024 - accuracy: 0.0032\n",
      "Epoch 13/100\n",
      "98/98 [==============================] - 0s 2ms/step - loss: 0.0023 - accuracy: 0.0013\n",
      "Epoch 14/100\n",
      "98/98 [==============================] - 0s 2ms/step - loss: 0.0025 - accuracy: 5.2182e-04\n",
      "Epoch 15/100\n",
      "98/98 [==============================] - 0s 2ms/step - loss: 0.0025 - accuracy: 0.0011\n",
      "Epoch 16/100\n",
      "98/98 [==============================] - 0s 1ms/step - loss: 0.0019 - accuracy: 0.0170\n",
      "Epoch 17/100\n",
      "98/98 [==============================] - 0s 2ms/step - loss: 0.0019 - accuracy: 0.0025\n",
      "Epoch 18/100\n",
      "98/98 [==============================] - 0s 1ms/step - loss: 0.0020 - accuracy: 0.0018\n",
      "Epoch 19/100\n",
      "98/98 [==============================] - 0s 1ms/step - loss: 0.0022 - accuracy: 0.0093\n",
      "Epoch 20/100\n",
      "98/98 [==============================] - 0s 2ms/step - loss: 0.0024 - accuracy: 0.0020\n",
      "Epoch 21/100\n",
      "98/98 [==============================] - 0s 2ms/step - loss: 0.0017 - accuracy: 4.1550e-04\n",
      "Epoch 22/100\n",
      "98/98 [==============================] - 0s 3ms/step - loss: 0.0018 - accuracy: 0.0276\n",
      "Epoch 23/100\n",
      "98/98 [==============================] - 0s 2ms/step - loss: 0.0022 - accuracy: 0.0014\n",
      "Epoch 24/100\n",
      "98/98 [==============================] - 0s 2ms/step - loss: 0.0017 - accuracy: 3.1028e-04\n",
      "Epoch 25/100\n",
      "98/98 [==============================] - 0s 2ms/step - loss: 0.0023 - accuracy: 0.0088\n",
      "Epoch 26/100\n",
      "98/98 [==============================] - 0s 2ms/step - loss: 0.0021 - accuracy: 0.0422\n",
      "Epoch 27/100\n",
      "98/98 [==============================] - 0s 2ms/step - loss: 0.0019 - accuracy: 0.0160\n",
      "Epoch 28/100\n",
      "98/98 [==============================] - 0s 2ms/step - loss: 0.0018 - accuracy: 0.0123\n",
      "Epoch 29/100\n",
      "98/98 [==============================] - 0s 2ms/step - loss: 0.0028 - accuracy: 0.0165\n",
      "Epoch 30/100\n",
      "98/98 [==============================] - 0s 2ms/step - loss: 0.0023 - accuracy: 0.0227\n",
      "Epoch 31/100\n",
      "98/98 [==============================] - 0s 2ms/step - loss: 0.0026 - accuracy: 0.0218\n",
      "Epoch 32/100\n",
      "98/98 [==============================] - 0s 2ms/step - loss: 0.0021 - accuracy: 0.0099\n",
      "Epoch 33/100\n",
      "98/98 [==============================] - 0s 2ms/step - loss: 0.0023 - accuracy: 0.0227\n",
      "Epoch 34/100\n",
      "98/98 [==============================] - 0s 1ms/step - loss: 0.0025 - accuracy: 0.0313\n",
      "Epoch 35/100\n",
      "98/98 [==============================] - 0s 2ms/step - loss: 0.0023 - accuracy: 0.0081\n",
      "Epoch 36/100\n",
      "98/98 [==============================] - 0s 2ms/step - loss: 0.0020 - accuracy: 0.0052\n",
      "Epoch 37/100\n",
      "98/98 [==============================] - 0s 2ms/step - loss: 0.0022 - accuracy: 0.0248\n",
      "Epoch 38/100\n",
      "98/98 [==============================] - 0s 2ms/step - loss: 0.0025 - accuracy: 0.0101\n",
      "Epoch 39/100\n",
      "98/98 [==============================] - 0s 1ms/step - loss: 0.0019 - accuracy: 0.0063\n",
      "Epoch 40/100\n",
      "98/98 [==============================] - 0s 1ms/step - loss: 0.0023 - accuracy: 0.0107\n",
      "Epoch 41/100\n",
      "98/98 [==============================] - 0s 1ms/step - loss: 0.0018 - accuracy: 2.0614e-04\n",
      "Epoch 42/100\n",
      "98/98 [==============================] - 0s 1ms/step - loss: 0.0024 - accuracy: 0.0170\n",
      "Epoch 43/100\n",
      "98/98 [==============================] - 0s 1ms/step - loss: 0.0018 - accuracy: 0.0069\n",
      "Epoch 44/100\n",
      "98/98 [==============================] - 0s 1ms/step - loss: 0.0021 - accuracy: 0.0292\n",
      "Epoch 45/100\n",
      "98/98 [==============================] - 0s 1ms/step - loss: 0.0020 - accuracy: 0.0015\n",
      "Epoch 46/100\n",
      "98/98 [==============================] - 0s 3ms/step - loss: 0.0020 - accuracy: 0.0150\n",
      "Epoch 47/100\n",
      "98/98 [==============================] - 0s 2ms/step - loss: 0.0025 - accuracy: 6.2928e-04\n",
      "Epoch 48/100\n",
      "98/98 [==============================] - 0s 1ms/step - loss: 0.0019 - accuracy: 0.0045\n",
      "Epoch 49/100\n",
      "98/98 [==============================] - 0s 1ms/step - loss: 0.0021 - accuracy: 0.0181\n",
      "Epoch 50/100\n",
      "98/98 [==============================] - 0s 1ms/step - loss: 0.0023 - accuracy: 0.0138\n",
      "Epoch 51/100\n",
      "98/98 [==============================] - 0s 2ms/step - loss: 0.0020 - accuracy: 0.0116\n",
      "Epoch 52/100\n",
      "98/98 [==============================] - 0s 2ms/step - loss: 0.0026 - accuracy: 0.0014\n",
      "Epoch 53/100\n",
      "98/98 [==============================] - 0s 1ms/step - loss: 0.0020 - accuracy: 0.0248\n",
      "Epoch 54/100\n",
      "98/98 [==============================] - 0s 1ms/step - loss: 0.0021 - accuracy: 0.0142\n",
      "Epoch 55/100\n",
      "98/98 [==============================] - 0s 2ms/step - loss: 0.0022 - accuracy: 0.0081\n",
      "Epoch 56/100\n",
      "98/98 [==============================] - 0s 1ms/step - loss: 0.0019 - accuracy: 0.0107\n",
      "Epoch 57/100\n",
      "98/98 [==============================] - 0s 1ms/step - loss: 0.0021 - accuracy: 0.0422\n",
      "Epoch 58/100\n",
      "98/98 [==============================] - 0s 1ms/step - loss: 0.0023 - accuracy: 0.0113\n",
      "Epoch 59/100\n",
      "98/98 [==============================] - 0s 2ms/step - loss: 0.0023 - accuracy: 0.0038e+ - ETA: 0s - loss: 0.0023 - accuracy: 0.0000e+\n",
      "Epoch 60/100\n",
      "98/98 [==============================] - 0s 1ms/step - loss: 0.0018 - accuracy: 3.1028e-04\n",
      "Epoch 61/100\n",
      "98/98 [==============================] - 0s 2ms/step - loss: 0.0020 - accuracy: 0.0069\n",
      "Epoch 62/100\n",
      "98/98 [==============================] - 0s 2ms/step - loss: 0.0018 - accuracy: 3.1028e-04\n",
      "Epoch 63/100\n",
      "98/98 [==============================] - 0s 2ms/step - loss: 0.0021 - accuracy: 0.0044\n",
      "Epoch 64/100\n",
      "98/98 [==============================] - 0s 2ms/step - loss: 0.0023 - accuracy: 0.0110\n",
      "Epoch 65/100\n",
      "98/98 [==============================] - 0s 1ms/step - loss: 0.0020 - accuracy: 7.3789e-04\n",
      "Epoch 66/100\n",
      "98/98 [==============================] - 0s 1ms/step - loss: 0.0025 - accuracy: 0.0218\n",
      "Epoch 67/100\n",
      "98/98 [==============================] - 0s 1ms/step - loss: 0.0026 - accuracy: 0.0013\n",
      "Epoch 68/100\n",
      "98/98 [==============================] - 0s 1ms/step - loss: 0.0021 - accuracy: 0.0099\n",
      "Epoch 69/100\n",
      "98/98 [==============================] - 0s 1ms/step - loss: 0.0019 - accuracy: 0.0126\n",
      "Epoch 70/100\n",
      "98/98 [==============================] - 0s 1ms/step - loss: 0.0027 - accuracy: 0.0045\n",
      "Epoch 71/100\n",
      "98/98 [==============================] - 0s 1ms/step - loss: 0.0021 - accuracy: 0.0176\n",
      "Epoch 72/100\n",
      "98/98 [==============================] - 0s 1ms/step - loss: 0.0024 - accuracy: 0.0093\n",
      "Epoch 73/100\n",
      "98/98 [==============================] - 0s 1ms/step - loss: 0.0022 - accuracy: 0.0065\n",
      "Epoch 74/100\n",
      "98/98 [==============================] - 0s 1ms/step - loss: 0.0021 - accuracy: 0.0014\n",
      "Epoch 75/100\n",
      "98/98 [==============================] - 0s 1ms/step - loss: 0.0027 - accuracy: 6.2928e-04\n",
      "Epoch 76/100\n",
      "98/98 [==============================] - 0s 1ms/step - loss: 0.0017 - accuracy: 0.0035\n",
      "Epoch 77/100\n",
      "98/98 [==============================] - 0s 1ms/step - loss: 0.0019 - accuracy: 0.0371\n",
      "Epoch 78/100\n",
      "98/98 [==============================] - 0s 1ms/step - loss: 0.0019 - accuracy: 0.0014\n",
      "Epoch 79/100\n",
      "98/98 [==============================] - 0s 1ms/step - loss: 0.0023 - accuracy: 0.0011\n",
      "Epoch 80/100\n",
      "98/98 [==============================] - 0s 1ms/step - loss: 0.0019 - accuracy: 0.0237\n",
      "Epoch 81/100\n",
      "98/98 [==============================] - 0s 2ms/step - loss: 0.0024 - accuracy: 0.0160\n"
     ]
    },
    {
     "name": "stdout",
     "output_type": "stream",
     "text": [
      "Epoch 82/100\n",
      "98/98 [==============================] - 0s 2ms/step - loss: 0.0022 - accuracy: 0.0027\n",
      "Epoch 83/100\n",
      "98/98 [==============================] - 0s 1ms/step - loss: 0.0020 - accuracy: 0.0013\n",
      "Epoch 84/100\n",
      "98/98 [==============================] - 0s 1ms/step - loss: 0.0020 - accuracy: 0.0038\n",
      "Epoch 85/100\n",
      "98/98 [==============================] - 0s 1ms/step - loss: 0.0022 - accuracy: 4.1550e-04\n",
      "Epoch 86/100\n",
      "98/98 [==============================] - 0s 1ms/step - loss: 0.0021 - accuracy: 0.0313\n",
      "Epoch 87/100\n",
      "98/98 [==============================] - 0s 1ms/step - loss: 0.0019 - accuracy: 0.0371\n",
      "Epoch 88/100\n",
      "98/98 [==============================] - 0s 2ms/step - loss: 0.0019 - accuracy: 0.0086\n",
      "Epoch 89/100\n",
      "98/98 [==============================] - 0s 2ms/step - loss: 0.0019 - accuracy: 0.0150\n",
      "Epoch 90/100\n",
      "98/98 [==============================] - 0s 1ms/step - loss: 0.0019 - accuracy: 0.0086\n",
      "Epoch 91/100\n",
      "98/98 [==============================] - 0s 1ms/step - loss: 0.0020 - accuracy: 0.0113\n",
      "Epoch 92/100\n",
      "98/98 [==============================] - 0s 1ms/step - loss: 0.0021 - accuracy: 0.0079\n",
      "Epoch 93/100\n",
      "98/98 [==============================] - 0s 1ms/step - loss: 0.0024 - accuracy: 0.0018\n",
      "Epoch 94/100\n",
      "98/98 [==============================] - 0s 1ms/step - loss: 0.0021 - accuracy: 0.0027\n",
      "Epoch 95/100\n",
      "98/98 [==============================] - 0s 1ms/step - loss: 0.0021 - accuracy: 0.0113\n",
      "Epoch 96/100\n",
      "98/98 [==============================] - 0s 1ms/step - loss: 0.0025 - accuracy: 0.0023\n",
      "Epoch 97/100\n",
      "98/98 [==============================] - 0s 1ms/step - loss: 0.0024 - accuracy: 0.0371\n",
      "Epoch 98/100\n",
      "98/98 [==============================] - 0s 1ms/step - loss: 0.0017 - accuracy: 0.0067\n",
      "Epoch 99/100\n",
      "98/98 [==============================] - 0s 1ms/step - loss: 0.0021 - accuracy: 0.0020\n",
      "Epoch 100/100\n",
      "98/98 [==============================] - 0s 1ms/step - loss: 0.0024 - accuracy: 0.0032\n"
     ]
    },
    {
     "data": {
      "text/plain": [
       "<tensorflow.python.keras.callbacks.History at 0x7fa181fa2be0>"
      ]
     },
     "execution_count": 63,
     "metadata": {},
     "output_type": "execute_result"
    }
   ],
   "source": [
    "#D\n",
    "model.fit(X_train, y_train, epochs=100, batch_size=1)"
   ]
  },
  {
   "cell_type": "code",
   "execution_count": 64,
   "metadata": {},
   "outputs": [],
   "source": [
    "y_pred = model.predict(X_test)"
   ]
  },
  {
   "cell_type": "code",
   "execution_count": 65,
   "metadata": {},
   "outputs": [
    {
     "data": {
      "text/plain": [
       "array([0.0019305])"
      ]
     },
     "execution_count": 65,
     "metadata": {},
     "output_type": "execute_result"
    }
   ],
   "source": [
    "scaler.scale_"
   ]
  },
  {
   "cell_type": "code",
   "execution_count": 66,
   "metadata": {},
   "outputs": [],
   "source": [
    "y_pred = scaler.inverse_transform(y_pred)\n",
    "y_test = np.array(y_test)\n",
    "y_test = y_test.reshape(-1, 1)\n",
    "y_test = scaler.inverse_transform(y_test)"
   ]
  },
  {
   "cell_type": "code",
   "execution_count": 67,
   "metadata": {},
   "outputs": [
    {
     "data": {
      "image/png": "[encoded data removed]",
      "text/plain": [
       "<Figure size 1008x360 with 1 Axes>"
      ]
     },
     "metadata": {
      "needs_background": "light"
     },
     "output_type": "display_data"
    }
   ],
   "source": [
    "plt.figure(figsize=(14,5))\n",
    "plt.plot(y_test, label = 'Real number of passengers')\n",
    "plt.plot(y_pred, label = 'Predicted number of passengers')\n",
    "plt.ylabel('# passengers')\n",
    "plt.legend()\n",
    "plt.show()"
   ]
  },
  {
   "cell_type": "code",
   "execution_count": null,
   "metadata": {},
   "outputs": [],
   "source": []
  }
 ],
 "metadata": {
  "kernelspec": {
   "display_name": "Python 3",
   "language": "python",
   "name": "python3"
  },
  "language_info": {
   "codemirror_mode": {
    "name": "ipython",
    "version": 3
   },
   "file_extension": ".py",
   "mimetype": "text/x-python",
   "name": "python",
   "nbconvert_exporter": "python",
   "pygments_lexer": "ipython3",
   "version": "3.8.3"
  }
 },
 "nbformat": 4,
 "nbformat_minor": 4
}
